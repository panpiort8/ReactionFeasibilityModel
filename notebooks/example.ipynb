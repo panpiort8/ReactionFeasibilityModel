{
 "cells": [
  {
   "cell_type": "code",
   "execution_count": 1,
   "outputs": [],
   "source": [
    "import torch\n",
    "\n",
    "# Checkpoint trained on both train and test datasets\n",
    "checkpoint = '../checkpoints/eval/best_reaction.pt'\n",
    "\n",
    "# Checkpoint trained on train datasets\n",
    "checkpoint = '../checkpoints/train/best_reaction.pt'\n",
    "device = 'cpu'"
   ],
   "metadata": {
    "collapsed": false,
    "ExecuteTime": {
     "end_time": "2024-06-10T14:29:21.576285Z",
     "start_time": "2024-06-10T14:29:20.433Z"
    }
   },
   "id": "93b9fa3ae119776d"
  },
  {
   "cell_type": "code",
   "execution_count": 2,
   "outputs": [],
   "source": [
    "from featurizers.featurizer import ReactionFeaturizer\n",
    "from models import ReactionGNN\n",
    "\n",
    "model = ReactionGNN(checkpoint_path=checkpoint)\n",
    "featurizer = ReactionFeaturizer()\n",
    "model.eval()\n",
    "model = model.to(device)"
   ],
   "metadata": {
    "collapsed": false,
    "ExecuteTime": {
     "end_time": "2024-06-10T14:29:24.526387Z",
     "start_time": "2024-06-10T14:29:21.575793Z"
    }
   },
   "id": "initial_id"
  },
  {
   "cell_type": "code",
   "execution_count": 3,
   "outputs": [
    {
     "data": {
      "text/plain": "tensor([-0.4529, -4.3600])"
     },
     "execution_count": 3,
     "metadata": {},
     "output_type": "execute_result"
    }
   ],
   "source": [
    "reactions_list = [\n",
    "    (['CC(C)(C)OC(=O)OC(=O)OC(C)(C)C', 'O=C(O)CC1CCNCC1'], 'CC(C)(C)OC(=O)N1CCC(CC(=O)O)CC1'), # positive\n",
    "    (['CC(C)(C)OC(=O)OC(=O)OC(C)(C)C', 'OCC1CCNCC1'], 'CC(C)(C)OC(=O)N1CCC(CC(=O)O)CC1'), # negative\n",
    "]\n",
    "reactants_batch, product_batch = featurizer.featurize_reactions_batch(reactions_list)\n",
    "reactants_batch = reactants_batch.to(device)\n",
    "product_batch = product_batch.to(device)\n",
    "with torch.no_grad():\n",
    "    output = model.forward(reactants=reactants_batch, products=product_batch)\n",
    "output"
   ],
   "metadata": {
    "collapsed": false,
    "ExecuteTime": {
     "end_time": "2024-06-10T14:29:24.837282Z",
     "start_time": "2024-06-10T14:29:24.529863Z"
    }
   },
   "id": "171c8df29d12bae1"
  }
 ],
 "metadata": {
  "kernelspec": {
   "display_name": "Python 3",
   "language": "python",
   "name": "python3"
  },
  "language_info": {
   "codemirror_mode": {
    "name": "ipython",
    "version": 2
   },
   "file_extension": ".py",
   "mimetype": "text/x-python",
   "name": "python",
   "nbconvert_exporter": "python",
   "pygments_lexer": "ipython2",
   "version": "2.7.6"
  }
 },
 "nbformat": 4,
 "nbformat_minor": 5
}
