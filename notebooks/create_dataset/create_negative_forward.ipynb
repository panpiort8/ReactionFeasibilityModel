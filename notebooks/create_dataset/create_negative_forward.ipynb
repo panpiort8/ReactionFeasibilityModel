{
 "cells": [
  {
   "cell_type": "code",
   "execution_count": 43,
   "id": "initial_id",
   "metadata": {
    "collapsed": true,
    "ExecuteTime": {
     "end_time": "2024-08-01T16:25:14.579897Z",
     "start_time": "2024-08-01T16:25:14.573527Z"
    }
   },
   "outputs": [],
   "source": [
    "import sys\n",
    "from collections import defaultdict\n",
    "from pathlib import Path\n",
    "import pandas as pd\n",
    "\n",
    "sys.path.append('.')\n",
    "from utils import canonicalize_smiles, get_ground_truth_dict\n",
    "from tqdm import tqdm\n",
    "from rdkit.Chem import rdChemReactions, MolFromSmiles, MolToSmiles\n",
    "\n",
    "data_dir = Path('../../data/uspto_50k')\n",
    "output_dir = data_dir / 'negative_forward'\n",
    "splits = ['test', 'valid', 'train']\n",
    "max_n_templates = 2000"
   ]
  },
  {
   "cell_type": "code",
   "execution_count": 44,
   "outputs": [],
   "source": [
    "def load_templates_dict(split: str, n_templates: int):\n",
    "    template_path = data_dir / 'forward_templates' / f'{split}.csv'\n",
    "    templates = pd.read_csv(template_path)\n",
    "    templates_count_dict = {row['reaction_smarts']: row['count'] for _, row in templates.iterrows()}\n",
    "    if split != 'train':\n",
    "        train_templates = load_templates_dict('train', 1000000000000)\n",
    "        for template, count in train_templates.items():\n",
    "            templates_count_dict[template] = count + templates_count_dict.get(template, 0)\n",
    "    templates_count_dict = dict(sorted(templates_count_dict.items(), key=lambda x: x[1], reverse=True)[:n_templates])\n",
    "    return templates_count_dict\n",
    "\n",
    "\n",
    "def get_forward_negatives(split: str):\n",
    "    templates = list(load_templates_dict(split, max_n_templates).keys())\n",
    "    reactions = [rdChemReactions.ReactionFromSmarts(template) for template in templates]\n",
    "\n",
    "    product_to_reactants = get_ground_truth_dict(data_dir, split)\n",
    "    positive_reactants = list(pd.read_csv(data_dir / 'positive' / f'{split}.csv')['reactants'].values)\n",
    "\n",
    "    negative_reactions = set()\n",
    "    found = 0\n",
    "    for reactants in tqdm(positive_reactants[:100]):\n",
    "        reactant_mols = [MolFromSmiles(reactant) for reactant in reactants.split('.')]\n",
    "        for rxn in reactions:\n",
    "            try:\n",
    "                product_list = rxn.RunReactants(reactant_mols)\n",
    "                for products in product_list:\n",
    "                    for product in products:\n",
    "                        product_smiles = MolToSmiles(product)\n",
    "                        product_smiles = canonicalize_smiles(product_smiles)\n",
    "                        if product_smiles in product_to_reactants:\n",
    "                            found += 1\n",
    "                        if product_smiles and len(product_smiles) > 4 and reactants not in product_to_reactants.get(\n",
    "                                product_smiles, set()):\n",
    "                            negative_reactions.add((reactants, product_smiles))\n",
    "            except:\n",
    "                pass\n",
    "\n",
    "    negative_df = pd.DataFrame(list(negative_reactions), columns=['reactants', 'product'])\n",
    "    negative_df['feasible'] = 0\n",
    "    return negative_df"
   ],
   "metadata": {
    "collapsed": false,
    "ExecuteTime": {
     "end_time": "2024-08-01T16:25:14.598189Z",
     "start_time": "2024-08-01T16:25:14.586190Z"
    }
   },
   "id": "5b73f0fd99008fcb"
  },
  {
   "cell_type": "code",
   "execution_count": null,
   "outputs": [],
   "source": [
    "output_dir.mkdir(exist_ok=True, parents=True)\n",
    "for split in splits:\n",
    "    df = get_forward_negatives(split)\n",
    "    df.to_csv(output_dir / f'{split}.csv', index=False)"
   ],
   "metadata": {
    "collapsed": false
   },
   "id": "cba77b436af7c703"
  }
 ],
 "metadata": {
  "kernelspec": {
   "display_name": "Python 3",
   "language": "python",
   "name": "python3"
  },
  "language_info": {
   "codemirror_mode": {
    "name": "ipython",
    "version": 2
   },
   "file_extension": ".py",
   "mimetype": "text/x-python",
   "name": "python",
   "nbconvert_exporter": "python",
   "pygments_lexer": "ipython2",
   "version": "2.7.6"
  }
 },
 "nbformat": 4,
 "nbformat_minor": 5
}
