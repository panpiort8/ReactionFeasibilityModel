{
 "cells": [
  {
   "cell_type": "code",
   "execution_count": 4,
   "id": "initial_id",
   "metadata": {
    "collapsed": true,
    "ExecuteTime": {
     "end_time": "2024-08-02T06:47:42.525361Z",
     "start_time": "2024-08-02T06:47:42.516918Z"
    }
   },
   "outputs": [],
   "source": [
    "from pathlib import Path\n",
    "import pandas as pd\n",
    "\n",
    "data_dir = Path('../../data/uspto_50k')\n",
    "output_dir = data_dir / 'merged'\n",
    "splits = ['train', 'valid', 'train_test']\n",
    "folders_to_merge = ['positive', 'negative_forward', 'negative_shuffle']"
   ]
  },
  {
   "cell_type": "code",
   "execution_count": 5,
   "outputs": [],
   "source": [
    "def merge_files(split: str):\n",
    "    if '_' in split:\n",
    "        dfs = [merge_files(split_) for split_ in split.split('_')]\n",
    "        return pd.concat(dfs, ignore_index=True)\n",
    "    \n",
    "    dfs = [\n",
    "        pd.read_csv(data_dir / folder / f'{split}.csv')\n",
    "        for folder in folders_to_merge\n",
    "    ]\n",
    "    return pd.concat(dfs, ignore_index=True)    "
   ],
   "metadata": {
    "collapsed": false,
    "ExecuteTime": {
     "end_time": "2024-08-02T06:47:42.527269Z",
     "start_time": "2024-08-02T06:47:42.523175Z"
    }
   },
   "id": "5b73f0fd99008fcb"
  },
  {
   "cell_type": "code",
   "execution_count": 6,
   "outputs": [],
   "source": [
    "output_dir.mkdir(exist_ok=True, parents=True)\n",
    "for split in splits:\n",
    "    raw = merge_files(split)\n",
    "    raw.to_csv(output_dir / f'{split}.csv', index=False)"
   ],
   "metadata": {
    "collapsed": false,
    "ExecuteTime": {
     "end_time": "2024-08-02T06:47:42.782616Z",
     "start_time": "2024-08-02T06:47:42.526654Z"
    }
   },
   "id": "cba77b436af7c703"
  }
 ],
 "metadata": {
  "kernelspec": {
   "display_name": "Python 3",
   "language": "python",
   "name": "python3"
  },
  "language_info": {
   "codemirror_mode": {
    "name": "ipython",
    "version": 2
   },
   "file_extension": ".py",
   "mimetype": "text/x-python",
   "name": "python",
   "nbconvert_exporter": "python",
   "pygments_lexer": "ipython2",
   "version": "2.7.6"
  }
 },
 "nbformat": 4,
 "nbformat_minor": 5
}
