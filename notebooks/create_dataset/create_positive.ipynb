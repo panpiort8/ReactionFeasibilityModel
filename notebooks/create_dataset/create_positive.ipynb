{
 "cells": [
  {
   "cell_type": "code",
   "execution_count": 1,
   "id": "initial_id",
   "metadata": {
    "collapsed": true,
    "ExecuteTime": {
     "end_time": "2024-08-01T16:04:31.278476Z",
     "start_time": "2024-08-01T16:04:30.792983Z"
    }
   },
   "outputs": [],
   "source": [
    "import sys\n",
    "from pathlib import Path\n",
    "import pandas as pd\n",
    "sys.path.append('.')\n",
    "from utils import remove_atom_mapping, canonicalize_smiles\n",
    "\n",
    "data_dir = Path('../../data/uspto_50k')\n",
    "output_dir = data_dir / 'positive'\n",
    "splits = ['test', 'valid', 'train']"
   ]
  },
  {
   "cell_type": "code",
   "execution_count": 2,
   "outputs": [],
   "source": [
    "def load_raw_data(split: str):\n",
    "    raw_path = data_dir / 'raw' / f'{split}.csv'\n",
    "    raw = pd.read_csv(raw_path)\n",
    "    column = raw.columns[-1]\n",
    "    raw['reactants'] = raw[column].apply(lambda x: x.split('>>')[0]).apply(remove_atom_mapping)\n",
    "    raw['product'] = raw[column].apply(lambda x: x.split('>>')[-1]).apply(remove_atom_mapping)\n",
    "    raw['reactants'] = raw['reactants'].apply(canonicalize_smiles)\n",
    "    raw['product'] = raw['product'].apply(canonicalize_smiles)\n",
    "    raw = raw.drop(columns=[column, 'class', 'id'])\n",
    "    raw['feasible'] = 1\n",
    "    return raw"
   ],
   "metadata": {
    "collapsed": false,
    "ExecuteTime": {
     "end_time": "2024-08-01T16:04:31.282254Z",
     "start_time": "2024-08-01T16:04:31.279931Z"
    }
   },
   "id": "5b73f0fd99008fcb"
  },
  {
   "cell_type": "code",
   "execution_count": null,
   "outputs": [],
   "source": [
    "output_dir.mkdir(exist_ok=True, parents=True)\n",
    "for split in splits:\n",
    "    raw = load_raw_data(split)\n",
    "    raw.to_csv(output_dir / f'{split}.csv', index=False)"
   ],
   "metadata": {
    "collapsed": false
   },
   "id": "cba77b436af7c703"
  }
 ],
 "metadata": {
  "kernelspec": {
   "display_name": "Python 3",
   "language": "python",
   "name": "python3"
  },
  "language_info": {
   "codemirror_mode": {
    "name": "ipython",
    "version": 2
   },
   "file_extension": ".py",
   "mimetype": "text/x-python",
   "name": "python",
   "nbconvert_exporter": "python",
   "pygments_lexer": "ipython2",
   "version": "2.7.6"
  }
 },
 "nbformat": 4,
 "nbformat_minor": 5
}
