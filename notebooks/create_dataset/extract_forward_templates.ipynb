{
 "cells": [
  {
   "cell_type": "code",
   "execution_count": 13,
   "id": "initial_id",
   "metadata": {
    "collapsed": true,
    "ExecuteTime": {
     "end_time": "2024-08-01T16:21:23.742401Z",
     "start_time": "2024-08-01T16:21:23.732980Z"
    }
   },
   "outputs": [],
   "source": [
    "from rdchiral.template_extractor import extract_from_reaction\n",
    "from pathlib import Path\n",
    "import pandas as pd\n",
    "from tqdm import tqdm\n",
    "tqdm.pandas()\n",
    "\n",
    "data_dir = Path('../../data/uspto_50k')\n",
    "output_dir = data_dir / 'forward_templates'\n",
    "splits = ['test', 'valid', 'train']"
   ]
  },
  {
   "cell_type": "code",
   "execution_count": 14,
   "outputs": [],
   "source": [
    "def extract_template_from_smarts(smarts: str) -> str:\n",
    "    reactants = smarts.split('>>')[0]\n",
    "    product = smarts.split('>>')[-1]\n",
    "    reaction_dict = {'reactants': reactants, 'products': product, '_id': 0}\n",
    "    out = extract_from_reaction(reaction_dict)\n",
    "    return f'{out[\"reactants\"]}>>{out[\"products\"]}'\n",
    "\n",
    "def extract_templates(split: str):\n",
    "    raw_path = data_dir / 'raw' / f'{split}.csv'\n",
    "    raw = pd.read_csv(raw_path)\n",
    "    column = raw.columns[-1]\n",
    "    raw['reaction_smarts'] = raw[column].progress_apply(extract_template_from_smarts)\n",
    "    reaction_smarts_count_dict = raw['reaction_smarts'].value_counts().to_dict()\n",
    "    return pd.DataFrame(reaction_smarts_count_dict.items(), columns=['reaction_smarts', 'count'])"
   ],
   "metadata": {
    "collapsed": false,
    "ExecuteTime": {
     "end_time": "2024-08-01T16:21:23.745612Z",
     "start_time": "2024-08-01T16:21:23.740075Z"
    }
   },
   "id": "5b73f0fd99008fcb"
  },
  {
   "cell_type": "code",
   "execution_count": null,
   "outputs": [],
   "source": [
    "output_dir.mkdir(exist_ok=True, parents=True)\n",
    "for split in splits:\n",
    "    df = extract_templates(split)\n",
    "    df.to_csv(output_dir / f'{split}.csv', index=False)"
   ],
   "metadata": {
    "collapsed": false
   },
   "id": "cba77b436af7c703"
  }
 ],
 "metadata": {
  "kernelspec": {
   "display_name": "Python 3",
   "language": "python",
   "name": "python3"
  },
  "language_info": {
   "codemirror_mode": {
    "name": "ipython",
    "version": 2
   },
   "file_extension": ".py",
   "mimetype": "text/x-python",
   "name": "python",
   "nbconvert_exporter": "python",
   "pygments_lexer": "ipython2",
   "version": "2.7.6"
  }
 },
 "nbformat": 4,
 "nbformat_minor": 5
}
