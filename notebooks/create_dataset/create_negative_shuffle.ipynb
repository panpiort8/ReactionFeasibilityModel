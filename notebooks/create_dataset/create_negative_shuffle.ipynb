{
 "cells": [
  {
   "cell_type": "code",
   "execution_count": 1,
   "id": "initial_id",
   "metadata": {
    "collapsed": true,
    "ExecuteTime": {
     "end_time": "2024-08-01T16:04:31.278476Z",
     "start_time": "2024-08-01T16:04:30.792983Z"
    }
   },
   "outputs": [],
   "source": [
    "import sys\n",
    "from pathlib import Path\n",
    "from typing import List\n",
    "\n",
    "import pandas as pd\n",
    "\n",
    "sys.path.append('.')\n",
    "from utils import get_ground_truth_dict\n",
    "\n",
    "data_dir = Path('../../data/uspto_50k')\n",
    "output_dir = data_dir / 'negative_shuffle'\n",
    "splits = ['test', 'valid', 'train']\n",
    "device = 'cpu'"
   ]
  },
  {
   "cell_type": "code",
   "execution_count": 2,
   "outputs": [],
   "source": [
    "from torch import Tensor\n",
    "import torch\n",
    "import numpy as np\n",
    "from rdkit import DataStructs\n",
    "from tqdm import tqdm\n",
    "from rdkit.Chem import AllChem, MolFromSmiles\n",
    "\n",
    "\n",
    "def get_ecfp_tensor(smiles_list: List[str]):\n",
    "    ecfp_list = [AllChem.GetMorganFingerprintAsBitVect(MolFromSmiles(smiles), 2) for smiles in smiles_list]\n",
    "    ecfp_torch = []\n",
    "    for ecfp in ecfp_list:\n",
    "        array = np.zeros((0,), dtype=np.int8)\n",
    "        DataStructs.ConvertToNumpyArray(ecfp, array)\n",
    "        ecfp_torch.append(torch.tensor(array).bool())\n",
    "    ecfp_torch = torch.stack(ecfp_torch)\n",
    "    return ecfp_torch\n",
    "\n",
    "\n",
    "def tanimoto_similarity(a: Tensor, rest: Tensor) -> Tensor:\n",
    "    in_a = a.sum()\n",
    "    in_b = rest.sum(dim=1)\n",
    "    in_both = (a.unsqueeze(0) * rest).sum(dim=1)\n",
    "    similarity = in_both / (in_a + in_b - in_both)\n",
    "    return similarity\n",
    "\n",
    "\n",
    "def get_shuffle_negatives(split: str, max_negatives_per_positive: int = 9):\n",
    "    product_to_reactants = get_ground_truth_dict(data_dir, split)\n",
    "    positive_df = pd.read_csv(data_dir / 'positive' / f'{split}.csv')\n",
    "\n",
    "    product_ecfp_torch = get_ecfp_tensor(positive_df['product']).to(device)\n",
    "    reactant_ecfp_torch = get_ecfp_tensor(positive_df['reactants']).to(device)\n",
    "\n",
    "    negative_reactions = set()\n",
    "    for idx, row in tqdm(positive_df.iterrows(), total=len(positive_df)):\n",
    "        product_ecfp = product_ecfp_torch[idx]\n",
    "        reactant_ecfp = reactant_ecfp_torch[idx]\n",
    "        similarity = tanimoto_similarity(product_ecfp, product_ecfp_torch) + tanimoto_similarity(reactant_ecfp,\n",
    "                                                                                                 reactant_ecfp_torch)\n",
    "        similarity = similarity.cpu()\n",
    "        similar_indices = torch.argsort(similarity, descending=True)\n",
    "\n",
    "        product = row['product']\n",
    "        forbidden_reactants = product_to_reactants[product]\n",
    "        added_count = 0\n",
    "        for similar_idx in similar_indices:\n",
    "            similar_reactants = positive_df.iloc[similar_idx]['reactants']\n",
    "            if similar_reactants not in forbidden_reactants and (product, similar_reactants) not in negative_reactions:\n",
    "                negative_reactions.add((product, similar_reactants))\n",
    "                added_count += 1\n",
    "            if added_count >= max_negatives_per_positive:\n",
    "                break\n",
    "                \n",
    "    negative_df = pd.DataFrame(list(negative_reactions), columns=['product', 'reactants'])\n",
    "    negative_df['feasible'] = 0\n",
    "    return negative_df\n"
   ],
   "metadata": {
    "collapsed": false,
    "ExecuteTime": {
     "end_time": "2024-08-01T16:04:31.282254Z",
     "start_time": "2024-08-01T16:04:31.279931Z"
    }
   },
   "id": "5b73f0fd99008fcb"
  },
  {
   "cell_type": "code",
   "execution_count": null,
   "outputs": [],
   "source": [
    "output_dir.mkdir(exist_ok=True, parents=True)\n",
    "for split in splits:\n",
    "    raw = get_shuffle_negatives(split)\n",
    "    raw.to_csv(output_dir / f'{split}.csv', index=False)"
   ],
   "metadata": {
    "collapsed": false
   },
   "id": "cba77b436af7c703"
  }
 ],
 "metadata": {
  "kernelspec": {
   "display_name": "Python 3",
   "language": "python",
   "name": "python3"
  },
  "language_info": {
   "codemirror_mode": {
    "name": "ipython",
    "version": 2
   },
   "file_extension": ".py",
   "mimetype": "text/x-python",
   "name": "python",
   "nbconvert_exporter": "python",
   "pygments_lexer": "ipython2",
   "version": "2.7.6"
  }
 },
 "nbformat": 4,
 "nbformat_minor": 5
}
